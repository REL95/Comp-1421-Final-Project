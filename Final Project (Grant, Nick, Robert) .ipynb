{
 "cells": [
  {
   "cell_type": "markdown",
   "metadata": {},
   "source": [
    "This is where we will implement and code everything...."
   ]
  },
  {
   "cell_type": "raw",
   "metadata": {
    "collapsed": true
   },
   "source": [
    "For the basic test cases do we even need 3d? If the tests are just in 2d\n",
    "I mean I can write the code interracting in 3d but Grant is going to have to be the one to \n",
    "reqwrite the plotter in 3d \n",
    "\n",
    "\n",
    "Do 2D and 3D test cases. Test in all 3 dimentions of motion"
   ]
  },
  {
   "cell_type": "code",
   "execution_count": 34,
   "metadata": {
    "collapsed": false
   },
   "outputs": [
    {
     "ename": "TypeError",
     "evalue": "only integer arrays with one element can be converted to an index",
     "output_type": "error",
     "traceback": [
      "\u001b[0;31m---------------------------------------------------------------------------\u001b[0m",
      "\u001b[0;31mTypeError\u001b[0m                                 Traceback (most recent call last)",
      "\u001b[0;32m<ipython-input-34-8723390d60cb>\u001b[0m in \u001b[0;36m<module>\u001b[0;34m()\u001b[0m\n\u001b[1;32m    124\u001b[0m     \u001b[0;32mreturn\u001b[0m \u001b[0;34m(\u001b[0m\u001b[0mF_B\u001b[0m\u001b[0;34m)\u001b[0m\u001b[0;34m\u001b[0m\u001b[0m\n\u001b[1;32m    125\u001b[0m \u001b[0;34m\u001b[0m\u001b[0m\n\u001b[0;32m--> 126\u001b[0;31m \u001b[0muniform_B_field_test\u001b[0m\u001b[0;34m(\u001b[0m\u001b[0;34m)\u001b[0m\u001b[0;34m\u001b[0m\u001b[0m\n\u001b[0m\u001b[1;32m    127\u001b[0m \u001b[0;34m\u001b[0m\u001b[0m\n\u001b[1;32m    128\u001b[0m \u001b[0;34m\u001b[0m\u001b[0m\n",
      "\u001b[0;32m<ipython-input-34-8723390d60cb>\u001b[0m in \u001b[0;36muniform_B_field_test\u001b[0;34m()\u001b[0m\n\u001b[1;32m     79\u001b[0m \u001b[0;34m\u001b[0m\u001b[0m\n\u001b[1;32m     80\u001b[0m \u001b[0;34m\u001b[0m\u001b[0m\n\u001b[0;32m---> 81\u001b[0;31m     \u001b[0;32mfor\u001b[0m \u001b[0mi\u001b[0m \u001b[0;32min\u001b[0m \u001b[0mrange\u001b[0m\u001b[0;34m(\u001b[0m\u001b[0mT\u001b[0m\u001b[0;34m)\u001b[0m\u001b[0;34m:\u001b[0m        \u001b[0;31m#for ease since v is m/s??\u001b[0m\u001b[0;34m\u001b[0m\u001b[0m\n\u001b[0m\u001b[1;32m     82\u001b[0m         \u001b[0mx_list\u001b[0m\u001b[0;34m.\u001b[0m\u001b[0mappend\u001b[0m\u001b[0;34m(\u001b[0m\u001b[0mx_current\u001b[0m\u001b[0;34m)\u001b[0m\u001b[0;34m\u001b[0m\u001b[0m\n\u001b[1;32m     83\u001b[0m         \u001b[0my_list\u001b[0m\u001b[0;34m.\u001b[0m\u001b[0mappend\u001b[0m\u001b[0;34m(\u001b[0m\u001b[0my_current\u001b[0m\u001b[0;34m)\u001b[0m\u001b[0;34m\u001b[0m\u001b[0m\n",
      "\u001b[0;31mTypeError\u001b[0m: only integer arrays with one element can be converted to an index"
     ]
    }
   ],
   "source": [
    "import numpy as np\n",
    "import random as random\n",
    "%matplotlib inline\n",
    "import matplotlib.pyplot as plt\n",
    "\n",
    "\n",
    "def uniform_B_field_test():\n",
    "    \"\"\"Will simulate a single particle in a uniform B-field\n",
    "A simplistic case meant to be a proof of concept\n",
    "Will be initally plotted in 2D and will later be expanded to 3D \n",
    "so we can better see more complicated corkscrew shapes\n",
    "\n",
    "\n",
    "possibly make a single code to simulate particle charges?\n",
    "just make the equation of the B-field varry (constant = 1, or varrying =sin or cos, \n",
    "random = break total field into bits and mult by random number)\n",
    "\n",
    "do we put boundaries to bounce on? or do we let it shoot out of the testing area?\n",
    "\n",
    "\n",
    "\n",
    "PARAMETERS\n",
    "charge (positive or negative and what value, have it enterable in units of e)\n",
    "length of field/length of testing area\n",
    "number of steps to calculate (remember its in 3D so you may have to use less to save time)\n",
    "inital velocity x\n",
    "inital velocity y\n",
    "inital velocity z\n",
    "time for the expeiment to take place (maybe have a cutoff once particle exits field \n",
    "or a ways after so we can see slightly more long term effects (simple (if paramter = 1.5 field length- end )))\n",
    "    I am more in favor of this cutoff method to be our primary method of ending the code. Though we could add \n",
    "    **kwargs statement so if we only want to see a  tiny amount of time, we can (and then add statement that \n",
    "    if time= anything use that)\n",
    "\n",
    "\n",
    "Output\n",
    "\n",
    "\n",
    "\n",
    "\n",
    "Location(and plotted with connecting line)\n",
    "Array of KE values for each step\n",
    "\n",
    "\n",
    "\n",
    "    F=q*E + q*v*np.cross(B) \n",
    "    MEANS F = whatever + q* [v_x,v_y,v_z] x [B_x,B_y,B_z]\n",
    "    \n",
    "        for now we assume no E\"\"\"\n",
    "\n",
    "    #velocity perameters to be entered\n",
    "    \n",
    "    \n",
    "    T= np.linspace(0,100,101) \n",
    "       \n",
    "    \n",
    "    x_0 = 1 \n",
    "    y_0 = 0\n",
    "    z_0 = 0\n",
    "    \n",
    "    (x_0**2+y_0**2+z_0**2) == 1\n",
    "    \n",
    "    \n",
    "    \n",
    "    \n",
    "    v_x = 1000\n",
    "    v_y = 0\n",
    "    v_z = 0\n",
    "    \n",
    "    x_current = x_0\n",
    "    y_current = y_0\n",
    "    z_current = z_0\n",
    "    \n",
    "        \n",
    "    x_list=[]\n",
    "    y_list=[]\n",
    "    z_list=[]\n",
    "    \n",
    "    \n",
    "    \n",
    "    for i in range(T):        #for ease since v is m/s??\n",
    "        x_list.append(x_current)\n",
    "        y_list.append(y_current)\n",
    "        z_list.append(z_current)\n",
    "        \n",
    "        x_current = v_x+x_current \n",
    "        y_current = v_y+y_current \n",
    "        z_current = v_z+z_current \n",
    "        \n",
    "\n",
    "    \n",
    "\n",
    "    q=-1 #e units\n",
    "\n",
    "    \n",
    "    #v_T=q*r*B/m #always is mag of t\n",
    "    \n",
    "    #(v_x**2+v_y**2)**(1/2)  ==  v_T \n",
    "    \n",
    "    \n",
    "    #r=m*v/(B*q)\n",
    "    \n",
    " \n",
    "    v_vector = [v_x,v_y,v_z]\n",
    "    \n",
    "    \n",
    "    \n",
    "    B=[0,-1,0]   #value * amp\n",
    "    \n",
    "    \n",
    "    \n",
    "    F_B=q*np.cross(v_vector,B)\n",
    "    \n",
    "    #make B-field\n",
    "    #F_B_x = q*v_x*B[1,]\n",
    "    #F_B_y = q*v_y*B\n",
    "    #F_B_z = q*v_z*B\n",
    "    \n",
    "\n",
    "    \n",
    "    print (F_B)\n",
    "\n",
    "    \n",
    "    return (F_B)\n",
    "\n",
    "uniform_B_field_test()\n",
    "\n",
    "\n",
    "\n",
    "\n",
    "\n",
    "\n",
    "\"\"\"Vary angle the particle is shot into: Do it along normal to B_field(perpendicular), at a small angle away from normal both postive and negative\"\"\"\n",
    "    "
   ]
  },
  {
   "cell_type": "code",
   "execution_count": null,
   "metadata": {
    "collapsed": true
   },
   "outputs": [],
   "source": []
  },
  {
   "cell_type": "code",
   "execution_count": null,
   "metadata": {
    "collapsed": true
   },
   "outputs": [],
   "source": []
  },
  {
   "cell_type": "code",
   "execution_count": null,
   "metadata": {
    "collapsed": true
   },
   "outputs": [],
   "source": []
  },
  {
   "cell_type": "code",
   "execution_count": null,
   "metadata": {
    "collapsed": false
   },
   "outputs": [],
   "source": []
  },
  {
   "cell_type": "code",
   "execution_count": null,
   "metadata": {
    "collapsed": true
   },
   "outputs": [],
   "source": []
  },
  {
   "cell_type": "code",
   "execution_count": null,
   "metadata": {
    "collapsed": true
   },
   "outputs": [],
   "source": []
  },
  {
   "cell_type": "code",
   "execution_count": null,
   "metadata": {
    "collapsed": true
   },
   "outputs": [],
   "source": []
  },
  {
   "cell_type": "code",
   "execution_count": null,
   "metadata": {
    "collapsed": true
   },
   "outputs": [],
   "source": []
  },
  {
   "cell_type": "code",
   "execution_count": 20,
   "metadata": {
    "collapsed": false
   },
   "outputs": [
    {
     "data": {
      "image/png": "[encoded data removed]",
      "text/plain": [
       "<matplotlib.figure.Figure at 0x10d5bcc18>"
      ]
     },
     "metadata": {},
     "output_type": "display_data"
    },
    {
     "data": {
      "image/png": "[encoded data removed]",
      "text/plain": [
       "<matplotlib.figure.Figure at 0x10d54a860>"
      ]
     },
     "metadata": {},
     "output_type": "display_data"
    },
    {
     "data": {
      "image/png": "[encoded data removed]",
      "text/plain": [
       "<matplotlib.figure.Figure at 0x10d3d2ba8>"
      ]
     },
     "metadata": {},
     "output_type": "display_data"
    }
   ],
   "source": [
    "import numpy as np\n",
    "import random as random\n",
    "%matplotlib inline\n",
    "import matplotlib.pyplot as plt\n",
    "\n",
    "\n",
    "def just_moving_along():#a test in movement\n",
    "    #initial posiional arguments\n",
    "    x_0=0\n",
    "    y_0=0\n",
    "    z_0=0\n",
    "    \n",
    "    #velocity argument\n",
    "    v_x=8\n",
    "    v_y=0\n",
    "    v_z=3\n",
    "    \n",
    "    \n",
    "    \n",
    "    time=10\n",
    "    time_step_num=1000\n",
    "    time_steps= time/time_step_num\n",
    "    \n",
    "   \n",
    "    x_current = x_0\n",
    "    y_current = y_0\n",
    "    z_current = z_0\n",
    "    \n",
    "        \n",
    "    x_list=[]\n",
    "    y_list=[]\n",
    "    z_list=[]\n",
    "    \n",
    "    \n",
    "    \n",
    "    for i in range(time_step_num):      \n",
    "        x_list.append(x_current)\n",
    "        y_list.append(y_current)\n",
    "        z_list.append(z_current)\n",
    "        \n",
    "        x_current = v_x*time_steps+x_current \n",
    "        y_current = v_y*time_steps+y_current \n",
    "        z_current = v_z*time_steps+z_current \n",
    "        \n",
    "    plt.plot(x_list, y_list)\n",
    "    plt.title(\"X and Y\")\n",
    "    plt.xlabel(\"X (m)\")\n",
    "    plt.ylabel(\"Y (m)\")\n",
    "    plt.show()    \n",
    "\n",
    "    \n",
    "    plt.plot(x_list, z_list)\n",
    "    plt.title(\"X and Z\")\n",
    "    plt.xlabel(\"X (m)\")\n",
    "    plt.ylabel(\"Z (m)\")\n",
    "    plt.show()    \n",
    "\n",
    "    \n",
    "    plt.plot(y_list, z_list)\n",
    "    plt.title(\"Y and Z\")\n",
    "    plt.xlabel(\"Y (m)\")\n",
    "    plt.ylabel(\"Z (m)\")\n",
    "    plt.show()    \n",
    "    \n",
    "    return\n",
    "        \n",
    "just_moving_along()\n",
    "    \n",
    "    "
   ]
  },
  {
   "cell_type": "code",
   "execution_count": null,
   "metadata": {
    "collapsed": true
   },
   "outputs": [],
   "source": []
  },
  {
   "cell_type": "code",
   "execution_count": 4,
   "metadata": {
    "collapsed": false
   },
   "outputs": [
    {
     "name": "stdout",
     "output_type": "stream",
     "text": [
      "Enter value of v_x 1\n",
      "Enter value of v_y 1\n",
      "Enter value of v_z 2\n",
      "Enter charge value -12\n"
     ]
    },
    {
     "data": {
      "image/png": "[encoded data removed]",
      "text/plain": [
       "<matplotlib.figure.Figure at 0x10ca89978>"
      ]
     },
     "metadata": {},
     "output_type": "display_data"
    },
    {
     "data": {
      "image/png": "[encoded data removed]",
      "text/plain": [
       "<matplotlib.figure.Figure at 0x10d47a588>"
      ]
     },
     "metadata": {},
     "output_type": "display_data"
    },
    {
     "data": {
      "image/png": "[encoded data removed]",
      "text/plain": [
       "<matplotlib.figure.Figure at 0x10d22f390>"
      ]
     },
     "metadata": {},
     "output_type": "display_data"
    },
    {
     "data": {
      "text/plain": [
       "([1.0, 1.0, 2.0], [0, 1, 0], array([ 24.,  -0., -12.]), -12)"
      ]
     },
     "execution_count": 4,
     "metadata": {},
     "output_type": "execute_result"
    }
   ],
   "source": [
    "import numpy as np\n",
    "import random as random\n",
    "%matplotlib inline\n",
    "import matplotlib.pyplot as plt\n",
    "\n",
    "\n",
    "def uniform_B_field():\n",
    "    v_x = float(input(\"Enter value of v_x \"  ))\n",
    "    v_y = float(input(\"Enter value of v_y \"  ))\n",
    "    v_z = float(input(\"Enter value of v_z \"  ))\n",
    "               \n",
    "    v_vector = [v_x,v_y,v_z]           \n",
    "    \n",
    "    \n",
    "    \n",
    "    q = int(input(\"Enter charge value \"  ))\n",
    "    \n",
    "    \n",
    "    #entered argument\n",
    "    \n",
    "        \n",
    "    x_0=0.0\n",
    "    y_0=0.0\n",
    "    z_0=0.0\n",
    "    \n",
    "    \n",
    "    \n",
    "    time=10.0\n",
    "    time_step_num=1000.0\n",
    "    time_steps= time/time_step_num\n",
    "    \n",
    "   \n",
    "    x_current = x_0\n",
    "    y_current = y_0\n",
    "    z_current = z_0\n",
    "    \n",
    "        \n",
    "    x_list=[]\n",
    "    y_list=[]\n",
    "    z_list=[]\n",
    "    \n",
    "        \n",
    "    B=[0.0,1.0,0.0]*1.0 #float because constant     \n",
    "    \n",
    "    F_B=q*np.cross(v_vector,B)\n",
    "    \n",
    "    [F_x,F_y,F_z]=F_B\n",
    "    \n",
    "    \n",
    "    #OR\n",
    "    B_x=0.0\n",
    "    B_y=1.0\n",
    "    B_z=0.0\n",
    "    \n",
    "    F_B_x=q*v_x*B_x\n",
    "    F_B_y=q*v_y*B_y\n",
    "    F_B_z=q*v_z*B_z\n",
    "\n",
    "\n",
    "    \n",
    "    \n",
    "    \n",
    "    \n",
    "    \n",
    "    for i in range(time_step_num):      \n",
    "        x_list.append(x_current)\n",
    "        y_list.append(y_current)\n",
    "        z_list.append(z_current)\n",
    "        \n",
    "        x_current = v_x*time_steps+x_current \n",
    "        y_current = v_y*time_steps+y_current \n",
    "        z_current = v_z*time_steps+z_current \n",
    "        \n",
    "    plt.plot(x_list, y_list)\n",
    "    plt.title(\"X and Y\")\n",
    "    plt.xlabel(\"X (m)\")\n",
    "    plt.ylabel(\"Y (m)\")\n",
    "    plt.show()    \n",
    "\n",
    "    \n",
    "    plt.plot(x_list, z_list)\n",
    "    plt.title(\"X and Z\")\n",
    "    plt.xlabel(\"X (m)\")\n",
    "    plt.ylabel(\"Z (m)\")\n",
    "    plt.show()    \n",
    "\n",
    "    \n",
    "    plt.plot(y_list, z_list)\n",
    "    plt.title(\"Y and Z\")\n",
    "    plt.xlabel(\"Y (m)\")\n",
    "    plt.ylabel(\"Z (m)\")\n",
    "    plt.show()    \n",
    "    \n",
    "    \n",
    "    \n",
    "    \n",
    "    B=[0.0,1.0,0.0]*1.0 #float because constant \n",
    "    \n",
    "    F_B=q*np.cross(v_vector,B)\n",
    "    \n",
    "    \n",
    "\n",
    "    \n",
    "    return v_vector, B, F_B, q\n",
    "\n",
    "uniform_B_field()\n",
    "\n",
    "#need K energy and Total E of system\n"
   ]
  },
  {
   "cell_type": "code",
   "execution_count": null,
   "metadata": {
    "collapsed": true
   },
   "outputs": [],
   "source": []
  },
  {
   "cell_type": "code",
   "execution_count": null,
   "metadata": {
    "collapsed": true
   },
   "outputs": [],
   "source": []
  },
  {
   "cell_type": "code",
   "execution_count": null,
   "metadata": {
    "collapsed": true
   },
   "outputs": [],
   "source": []
  },
  {
   "cell_type": "code",
   "execution_count": null,
   "metadata": {
    "collapsed": true
   },
   "outputs": [],
   "source": []
  },
  {
   "cell_type": "code",
   "execution_count": null,
   "metadata": {
    "collapsed": false
   },
   "outputs": [],
   "source": [
    "\n",
    "\"\"\"\n",
    "\n",
    "NONUNIFORM\n",
    "Will simulate a single particle in a uniform B-field\n",
    "A simplistic case meant to be a proof of concept\n",
    "Will be initally plotted in 2D and will later be expanded to 3D \n",
    "so we can better see more complicated corkscrew shapes\n",
    "\n",
    "\n",
    "possibly make a single code to simulate particle charges?\n",
    "just make the equation of the B-field varry (constant = 1, or varrying =sin or cos, \n",
    "random = break total field into bits and mult by random number)\n",
    "\n",
    "do we put boundaries to bounce on? or do we let it shoot out of the testing area?\n",
    "\n",
    "\n",
    "\n",
    "PARAMETERS\n",
    "charge (positive or negative and what value, have it enterable in units of e)\n",
    "length of field/length of testing area\n",
    "number of steps to calculate (remember its in 3D so you may have to use less to save time)\n",
    "inital velocity x\n",
    "inital velocity y\n",
    "inital velocity z\n",
    "time for the expeiment to take place (maybe have a cutoff once particle exits field \n",
    "or a ways after so we can see slightly more long term effects (simple (if paramter = 1.5 field length- end )))\n",
    "    I am more in favor of this cutoff method to be our primary method of ending the code. Though we could add \n",
    "    **kwargs statement so if we only want to see a  tiny amount of time, we can (and then add statement that \n",
    "    if time= anything use that)\n",
    "\n",
    "\n",
    "Output\n",
    "\n",
    "\n",
    "\n",
    "\n",
    "Location(and plotted with connecting line)\n",
    "Array of KE values for each step\n",
    "\n",
    "\n",
    "\n",
    "\n",
    "    F=q*E + q*v*np.cross(B) \n",
    "    MEANS F = whatever + q* [v_x,v_y,v_z] x [B_x,B_y,B_z]\n",
    "    \n",
    "        for now we assume no E\"\"\"\n",
    "def nonuniform_B_field():\n",
    "    v_x = float(input(\"Enter value of v_x \"  ))\n",
    "    v_y = float(input(\"Enter value of v_y \"  ))\n",
    "    v_z = float(input(\"Enter value of v_z \"  ))\n",
    "               \n",
    "    v_vector = [v_x,v_y,v_z]           \n",
    "    \n",
    "    \n",
    "    \n",
    "    q = int(input(\"Enter charge value \"  ))\n",
    "    \n",
    "    \n",
    "    #entered argument\n",
    "    \n",
    "        \n",
    "    x_0=0\n",
    "    y_0=0\n",
    "    z_0=0\n",
    "    \n",
    "    \n",
    "    \n",
    "    time=10\n",
    "    time_step_num=1000\n",
    "    time_steps= time/time_step_num\n",
    "    \n",
    "   \n",
    "    x_current = x_0\n",
    "    y_current = y_0\n",
    "    z_current = z_0\n",
    "    \n",
    "        \n",
    "    x_list=[]\n",
    "    y_list=[]\n",
    "    z_list=[]\n",
    "    \n",
    "        \n",
    "    B=[0,1,0]*1 #Push  \n",
    "    \n",
    "    F_B=q*np.cross(v_vector,B)\n",
    "    \n",
    "    \n",
    "    \n",
    "    for i in range(time_step_num):      \n",
    "        x_list.append(x_current)\n",
    "        y_list.append(y_current)\n",
    "        z_list.append(z_current)\n",
    "        \n",
    "        x_current = v_x*time_steps+x_current \n",
    "        y_current = v_y*time_steps+y_current \n",
    "        z_current = v_z*time_steps+z_current \n",
    "        \n",
    "    plt.plot(x_list, y_list)\n",
    "    plt.title(\"X and Y\")\n",
    "    plt.xlabel(\"X (m)\")\n",
    "    plt.ylabel(\"Y (m)\")\n",
    "    plt.show()    \n",
    "\n",
    "    \n",
    "    plt.plot(x_list, z_list)\n",
    "    plt.title(\"X and Z\")\n",
    "    plt.xlabel(\"X (m)\")\n",
    "    plt.ylabel(\"Z (m)\")\n",
    "    plt.show()    \n",
    "\n",
    "    \n",
    "    plt.plot(y_list, z_list)\n",
    "    plt.title(\"Y and Z\")\n",
    "    plt.xlabel(\"Y (m)\")\n",
    "    plt.ylabel(\"Z (m)\")\n",
    "    plt.show()    \n",
    "    \n",
    "    \n",
    "    \n",
    "    \n",
    "    B=[0,1,0]*1 #change this is jsut copy of uniform\n",
    "    \n",
    "    \n",
    "    F_B=q*np.cross(v_vector,B)\n",
    "    \n",
    "    #print (v_vector,\"    \", F_B)\n",
    "\n",
    "    \n",
    "    return v_vector, B, F_B, q\n",
    "\n",
    "uniform_B_field()\n",
    "\n",
    "\n"
   ]
  },
  {
   "cell_type": "code",
   "execution_count": null,
   "metadata": {
    "collapsed": true
   },
   "outputs": [],
   "source": [
    "\"\"\"Ring/Taurus broken into 8 pieces. Set point 1 and all ofthe pices in respect to 1\n",
    "Simple case is shoot ring perpendicular to B and add other piece places to see ring turn\"\"\""
   ]
  }
 ],
 "metadata": {
  "anaconda-cloud": {},
  "kernelspec": {
   "display_name": "Python [Root]",
   "language": "python",
   "name": "Python [Root]"
  },
  "language_info": {
   "codemirror_mode": {
    "name": "ipython",
    "version": 3
   },
   "file_extension": ".py",
   "mimetype": "text/x-python",
   "name": "python",
   "nbconvert_exporter": "python",
   "pygments_lexer": "ipython3",
   "version": "3.5.2"
  }
 },
 "nbformat": 4,
 "nbformat_minor": 0
}
