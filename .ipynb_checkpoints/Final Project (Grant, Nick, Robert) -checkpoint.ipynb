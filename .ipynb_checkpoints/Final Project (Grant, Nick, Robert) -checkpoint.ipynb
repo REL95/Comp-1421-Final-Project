{
 "cells": [
  {
   "cell_type": "markdown",
   "metadata": {},
   "source": [
    "This is where we will implement and code everything...."
   ]
  },
  {
   "cell_type": "raw",
   "metadata": {
    "collapsed": true
   },
   "source": []
  },
  {
   "cell_type": "code",
   "execution_count": 46,
   "metadata": {
    "collapsed": false
   },
   "outputs": [
    {
     "ename": "IndentationError",
     "evalue": "unexpected indent (<ipython-input-46-b079846b9161>, line 107)",
     "output_type": "error",
     "traceback": [
      "\u001b[0;36m  File \u001b[0;32m\"<ipython-input-46-b079846b9161>\"\u001b[0;36m, line \u001b[0;32m107\u001b[0m\n\u001b[0;31m    ax.set_xlabel(\"X\")\u001b[0m\n\u001b[0m    ^\u001b[0m\n\u001b[0;31mIndentationError\u001b[0m\u001b[0;31m:\u001b[0m unexpected indent\n"
     ]
    }
   ],
   "source": [
    "\"\"\"UNIFORM: \n",
    "\n",
    "Will simulate a single particle in a uniform B-field\n",
    "A simplistic case meant to be a proof of concept\n",
    "Will be initally plotted in 2D and will later be expanded to 3D \n",
    "so we can better see more complicated corkscrew shapes\n",
    "\n",
    "\n",
    "possibly make a single code to simulate particle charges?\n",
    "just make the equation of the B-field varry (constant = 1, or varrying =sin or cos, \n",
    "random = break total field into bits and mult by random number)\n",
    "\n",
    "do we put boundaries to bounce on? or do we let it shoot out of the testing area?\n",
    "\n",
    "\n",
    "\n",
    "PARAMETERS\n",
    "charge (positive or negative and what value, have it enterable in units of e)\n",
    "length of field/length of testing area\n",
    "number of steps to calculate (remember its in 3D so you may have to use less to save time)\n",
    "inital velocity x\n",
    "inital velocity y\n",
    "inital velocity z\n",
    "time for the expeiment to take place (maybe have a cutoff once particle exits field \n",
    "or a ways after so we can see slightly more long term effects (simple (if paramter = 1.5 field length- end )))\n",
    "    I am more in favor of this cutoff method to be our primary method of ending the code. Though we could add \n",
    "    **kwargs statement so if we only want to see a  tiny amount of time, we can (and then add statement that \n",
    "    if time= anything use that)\n",
    "\n",
    "\n",
    "Output\n",
    "\n",
    "\n",
    "\n",
    "\n",
    "Location(and plotted with connecting line)\n",
    "Array of KE values for each step\n",
    "\n",
    "\"\"\"\n",
    "    \n",
    "    \n",
    "    \n",
    "from scipy.integrate import odeint\n",
    "import matplotlib as mpl\n",
    "from mpl_toolkits.mplot3d import Axes3D\n",
    "import numpy as np\n",
    "import matplotlib.pyplot as plt\n",
    "\n",
    "mpl.rcParams['legend.fontsize'] = 10\n",
    "\n",
    "\n",
    "\n",
    "def uniform (pos, vel, m, total_time, time_steps , B, q):\n",
    "    \n",
    "    t = np.linspace(0, 10, time_steps)\n",
    "    u = np.zero(len(t), 6)\n",
    "    deltat= 10/time_steps\n",
    "    \n",
    "    x, y, z = pos\n",
    "    vx, vy, vz = vel\n",
    "    Bx, By, Bz = B\n",
    "    \n",
    "    px=m*vx #can say this because particle velcocity will be less than c\n",
    "    py=m*vy\n",
    "    pz=m*vz\n",
    "    \n",
    "    \n",
    "    for i in t:\n",
    "        #Bx=x* will be modified for non-uniform\n",
    "        #By=y*\n",
    "        #Bz=z*\n",
    "        \n",
    "        FBx=q*vx*Bx\n",
    "        FBy=q*vy*By\n",
    "        FBz=q*vz*Bz\n",
    "        \n",
    "        px = px + FBx * deltat \n",
    "        py = py + FBy * deltat \n",
    "        pz = pz + FBz * deltat\n",
    "        \n",
    "        vx=px/m\n",
    "        vy=py/m\n",
    "        vz=pz/m\n",
    "\n",
    "        x=x+vx*(deltat)\n",
    "        y=y+vy*(deltat)\n",
    "        z=z+vz*(deltat)\n",
    "    \n",
    "        \n",
    "        r = np.sqrt(x**2 + y**2)\n",
    "    \n",
    "        v = np.sqrt(vx**2 + vy**2 + vz**2)\n",
    "        \n",
    "        ax = -q*vx*Bx/m*(x/r)\n",
    "        ay = -q*vy*By/m*(y/r)\n",
    "        az = -q*vz*Bz/m*(z/r)\n",
    "        \n",
    "    return vx, vy, vz, ax, ay, az\n",
    "\n",
    "        \n",
    "        \n",
    "    \n",
    "        \n",
    "fig = plt.figure()\n",
    "ax = fig.gca(projection=\"3d\")\n",
    "ax.plot(p_a_array[:,0], p_a_array[:,1], p_a_array[:,2])\n",
    "    ax.set_xlabel(\"X\")\n",
    "    ax.set_ylabel(\"Y\")\n",
    "    ax.set_zlabel(\"Z\")\n",
    "    plt.show()\n",
    "\n",
    "    plt.plot(t, p_a_array[:,0], label=\"X Fluctuations\")\n",
    "    plt.plot(t, p_a_array[:,1], label=\"Y Fluctuations\")\n",
    "    plt.legend()\n",
    "    plt.show()\n",
    "\n",
    "\n",
    "    energy = (1.0/2)*((p_a_array[:,3])**2 + (p_a_array[:,4])**2)\n",
    "\n",
    "    plt.plot(t, energy)\n",
    "    plt.show()\n",
    "    \n",
    "    return \n",
    "    \n",
    "    \n",
    "def uniform_pt2(u,t, B):\n",
    "    \n",
    "    \n",
    "    \n",
    "    \n",
    "pos = [0, 1, 10]\n",
    "vel = [1, 0, -1]\n",
    "B = [0, 1, 0] \n",
    "\n",
    "\n",
    "\n",
    "\n",
    "\n",
    "uniform (pos = [0, 1, 10], vel= [1, 0, -1], m= 1 , total_time=10 , time_steps=101 , B = [0, 1, 0] , q=1)\n",
    "\n",
    "\n"
   ]
  },
  {
   "cell_type": "code",
   "execution_count": null,
   "metadata": {
    "collapsed": true
   },
   "outputs": [],
   "source": []
  },
  {
   "cell_type": "code",
   "execution_count": 64,
   "metadata": {
    "collapsed": false
   },
   "outputs": [
    {
     "data": {
      "image/png": "[encoded data removed]",
      "text/plain": [
       "<matplotlib.figure.Figure at 0x10a08f780>"
      ]
     },
     "metadata": {},
     "output_type": "display_data"
    },
    {
     "data": {
      "image/png": "[encoded data removed]",
      "text/plain": [
       "<matplotlib.figure.Figure at 0x10b1226d8>"
      ]
     },
     "metadata": {},
     "output_type": "display_data"
    },
    {
     "data": {
      "image/png": "[encoded data removed]",
      "text/plain": [
       "<matplotlib.figure.Figure at 0x1031c8f98>"
      ]
     },
     "metadata": {},
     "output_type": "display_data"
    }
   ],
   "source": [
    "\n",
    "import numpy as np\n",
    "import random as random\n",
    "%matplotlib inline\n",
    "import matplotlib.pyplot as plt\n",
    "from scipy.integrate import odeint\n",
    "from mpl_toolkits.mplot3d import Axes3D\n",
    "\n",
    "\n",
    "\n",
    "\n",
    "def s_part_uniform(u, t, B):\n",
    "\n",
    "\n",
    "    q = 1\n",
    "    m = 1\n",
    "    x, y, z, vx, vy, vz = u\n",
    "    \n",
    "    r = np.sqrt(x**2 + y**2)\n",
    "    \n",
    "    v = np.sqrt(vx**2 + vy**2)\n",
    "    \n",
    "    v = q*r*B/m\n",
    "    \n",
    "    a = q*v*B/m\n",
    "    ax = -a*(x/r)\n",
    "    ay = -a*(y/r)\n",
    "    az = 0\n",
    "    \n",
    "    return vx, vy, vz, ax, ay, az\n",
    "\n",
    "\n",
    "\n",
    "\n",
    "\n",
    "\n",
    "\n",
    "p0 = [0, 1, 10, 1, 0, -1]\n",
    "\n",
    "\n",
    "N = 101\n",
    "\n",
    "t = np.linspace(0, 10, N)\n",
    "u = np.zeros((len(t), 7))\n",
    "B = 1\n",
    "\n",
    "\n",
    "\n",
    "\n",
    "uniformpart = odeint(s_part_uniform, p0, t, args=(B,))\n",
    "\n",
    "fig = plt.figure()\n",
    "ax = fig.gca(projection=\"3d\")\n",
    "ax.plot(uniformpart[:,0], uniformpart[:,1], uniformpart[:,2])\n",
    "ax.set_xlabel(\"X\")\n",
    "ax.set_ylabel(\"Y\")\n",
    "ax.set_zlabel(\"Z\")\n",
    "plt.show()\n",
    "\n",
    "plt.plot(t, uniformpart[:,0], label=\"X Fluctuations\")\n",
    "plt.plot(t, uniformpart[:,1], label=\"Y Fluctuations\")\n",
    "plt.legend()\n",
    "plt.show()\n",
    "\n",
    "\n",
    "energy = (1.0/2)*((uniformpart[:,3])**2 + (uniformpart[:,4])**2)\n",
    "\n",
    "plt.plot(t, energy)\n",
    "plt.show()\n",
    "\n",
    "\n",
    "\n"
   ]
  },
  {
   "cell_type": "code",
   "execution_count": null,
   "metadata": {
    "collapsed": true
   },
   "outputs": [],
   "source": []
  },
  {
   "cell_type": "code",
   "execution_count": null,
   "metadata": {
    "collapsed": true
   },
   "outputs": [],
   "source": []
  },
  {
   "cell_type": "code",
   "execution_count": null,
   "metadata": {
    "collapsed": true
   },
   "outputs": [],
   "source": []
  },
  {
   "cell_type": "code",
   "execution_count": null,
   "metadata": {
    "collapsed": true
   },
   "outputs": [],
   "source": []
  },
  {
   "cell_type": "code",
   "execution_count": null,
   "metadata": {
    "collapsed": false
   },
   "outputs": [],
   "source": []
  },
  {
   "cell_type": "code",
   "execution_count": 57,
   "metadata": {
    "collapsed": false
   },
   "outputs": [
    {
     "ename": "ValueError",
     "evalue": "setting an array element with a sequence.",
     "output_type": "error",
     "traceback": [
      "\u001b[0;31m---------------------------------------------------------------------------\u001b[0m",
      "\u001b[0;31mValueError\u001b[0m                                Traceback (most recent call last)",
      "\u001b[0;32m<ipython-input-57-e57edd4dba61>\u001b[0m in \u001b[0;36m<module>\u001b[0;34m()\u001b[0m\n\u001b[1;32m     94\u001b[0m     \u001b[0mB\u001b[0m \u001b[0;34m=\u001b[0m \u001b[0mnp\u001b[0m\u001b[0;34m.\u001b[0m\u001b[0mcos\u001b[0m\u001b[0;34m(\u001b[0m\u001b[0mt\u001b[0m\u001b[0;34m)\u001b[0m\u001b[0;34m\u001b[0m\u001b[0m\n\u001b[1;32m     95\u001b[0m \u001b[0;34m\u001b[0m\u001b[0m\n\u001b[0;32m---> 96\u001b[0;31m \u001b[0mnonuniformpart\u001b[0m \u001b[0;34m=\u001b[0m \u001b[0modeint\u001b[0m\u001b[0;34m(\u001b[0m\u001b[0ms_part_nonuniform\u001b[0m\u001b[0;34m,\u001b[0m \u001b[0mp0\u001b[0m\u001b[0;34m,\u001b[0m \u001b[0mt\u001b[0m\u001b[0;34m,\u001b[0m \u001b[0margs\u001b[0m\u001b[0;34m=\u001b[0m\u001b[0;34m(\u001b[0m\u001b[0mB\u001b[0m\u001b[0;34m,\u001b[0m\u001b[0;34m)\u001b[0m\u001b[0;34m)\u001b[0m\u001b[0;34m\u001b[0m\u001b[0m\n\u001b[0m\u001b[1;32m     97\u001b[0m \u001b[0;34m\u001b[0m\u001b[0m\n\u001b[1;32m     98\u001b[0m \u001b[0mfig\u001b[0m \u001b[0;34m=\u001b[0m \u001b[0mplt\u001b[0m\u001b[0;34m.\u001b[0m\u001b[0mfigure\u001b[0m\u001b[0;34m(\u001b[0m\u001b[0;34m)\u001b[0m\u001b[0;34m\u001b[0m\u001b[0m\n",
      "\u001b[0;32m/Users/Nick/anaconda/lib/python3.5/site-packages/scipy/integrate/odepack.py\u001b[0m in \u001b[0;36modeint\u001b[0;34m(func, y0, t, args, Dfun, col_deriv, full_output, ml, mu, rtol, atol, tcrit, h0, hmax, hmin, ixpr, mxstep, mxhnil, mxordn, mxords, printmessg)\u001b[0m\n\u001b[1;32m    213\u001b[0m     output = _odepack.odeint(func, y0, t, args, Dfun, col_deriv, ml, mu,\n\u001b[1;32m    214\u001b[0m                              \u001b[0mfull_output\u001b[0m\u001b[0;34m,\u001b[0m \u001b[0mrtol\u001b[0m\u001b[0;34m,\u001b[0m \u001b[0matol\u001b[0m\u001b[0;34m,\u001b[0m \u001b[0mtcrit\u001b[0m\u001b[0;34m,\u001b[0m \u001b[0mh0\u001b[0m\u001b[0;34m,\u001b[0m \u001b[0mhmax\u001b[0m\u001b[0;34m,\u001b[0m \u001b[0mhmin\u001b[0m\u001b[0;34m,\u001b[0m\u001b[0;34m\u001b[0m\u001b[0m\n\u001b[0;32m--> 215\u001b[0;31m                              ixpr, mxstep, mxhnil, mxordn, mxords)\n\u001b[0m\u001b[1;32m    216\u001b[0m     \u001b[0;32mif\u001b[0m \u001b[0moutput\u001b[0m\u001b[0;34m[\u001b[0m\u001b[0;34m-\u001b[0m\u001b[0;36m1\u001b[0m\u001b[0;34m]\u001b[0m \u001b[0;34m<\u001b[0m \u001b[0;36m0\u001b[0m\u001b[0;34m:\u001b[0m\u001b[0;34m\u001b[0m\u001b[0m\n\u001b[1;32m    217\u001b[0m         \u001b[0mwarning_msg\u001b[0m \u001b[0;34m=\u001b[0m \u001b[0m_msgs\u001b[0m\u001b[0;34m[\u001b[0m\u001b[0moutput\u001b[0m\u001b[0;34m[\u001b[0m\u001b[0;34m-\u001b[0m\u001b[0;36m1\u001b[0m\u001b[0;34m]\u001b[0m\u001b[0;34m]\u001b[0m \u001b[0;34m+\u001b[0m \u001b[0;34m\" Run with full_output = 1 to get quantitative information.\"\u001b[0m\u001b[0;34m\u001b[0m\u001b[0m\n",
      "\u001b[0;31mValueError\u001b[0m: setting an array element with a sequence."
     ]
    }
   ],
   "source": [
    "\n",
    "\"\"\"\n",
    "\n",
    "NONUNIFORM\n",
    "Will simulate a single particle in a uniform B-field\n",
    "A simplistic case meant to be a proof of concept\n",
    "Will be initally plotted in 2D and will later be expanded to 3D \n",
    "so we can better see more complicated corkscrew shapes\n",
    "\n",
    "\n",
    "possibly make a single code to simulate particle charges?\n",
    "just make the equation of the B-field varry (constant = 1, or varrying =sin or cos, \n",
    "random = break total field into bits and mult by random number)\n",
    "\n",
    "do we put boundaries to bounce on? or do we let it shoot out of the testing area?\n",
    "\n",
    "\n",
    "\n",
    "PARAMETERS\n",
    "charge (positive or negative and what value, have it enterable in units of e)\n",
    "length of field/length of testing area\n",
    "number of steps to calculate (remember its in 3D so you may have to use less to save time)\n",
    "inital velocity x\n",
    "inital velocity y\n",
    "inital velocity z\n",
    "time for the expeiment to take place (maybe have a cutoff once particle exits field \n",
    "or a ways after so we can see slightly more long term effects (simple (if paramter = 1.5 field length- end )))\n",
    "    I am more in favor of this cutoff method to be our primary method of ending the code. Though we could add \n",
    "    **kwargs statement so if we only want to see a  tiny amount of time, we can (and then add statement that \n",
    "    if time= anything use that)\n",
    "\n",
    "\n",
    "Output\n",
    "\n",
    "\n",
    "\n",
    "\n",
    "Location(and plotted with connecting line)\n",
    "Array of KE values for each step\n",
    "\n",
    "\n",
    "\n",
    "\n",
    "    F=q*E + q*v*np.cross(B) \n",
    "    MEANS F = whatever + q* [v_x,v_y,v_z] x [B_x,B_y,B_z]\n",
    "    \n",
    "        for now we assume no E\"\"\"\n",
    "\n",
    "\n",
    "   \n",
    "      \n",
    "    \n",
    "from scipy.integrate import odeint\n",
    "import matplotlib as mpl\n",
    "from mpl_toolkits.mplot3d import Axes3D\n",
    "import numpy as np\n",
    "import matplotlib.pyplot as plt\n",
    "\n",
    "mpl.rcParams['legend.fontsize'] = 10\n",
    "\n",
    "\n",
    "\n",
    "def nonuniform (pos, vel, m, total_time, time_steps , B, q):\n",
    "    \n",
    "    t = np.linspace(0, 10, time_steps)\n",
    "    deltat= 10/time_steps\n",
    "    \n",
    "    x, y, z = pos\n",
    "    vx, vy, vz = vel\n",
    "    Bx, By, Bz = B\n",
    "    \n",
    "    px=m*vx #can say this because particle velcocity will be less than c\n",
    "    py=m*vy\n",
    "    pz=m*vz\n",
    "    \n",
    "    #position_and_velocity = () most liekly will be changed\n",
    "    \n",
    "    for i in t:\n",
    "        Bx=0\n",
    "        By=cos(2*y)\n",
    "        Bz=0\n",
    "        \n",
    "        FBx=q*vx*Bx\n",
    "        FBy=q*vy*By\n",
    "        FBz=q*vz*Bz\n",
    "        \n",
    "        px = px + FBx * deltat \n",
    "        py = py + FBy * deltat \n",
    "        pz = pz + FBz * deltat\n",
    "        \n",
    "        vx=px/m\n",
    "        vy=py/m\n",
    "        vz=pz/m\n",
    "\n",
    "        x=x+vx*(deltat)\n",
    "        y=y+vy*(deltat)\n",
    "        z=z+vz*(deltat)\n",
    "        \n",
    "        #r = np.sqrt(x**2 + y**2)\n",
    "    \n",
    "        #v = np.sqrt(vx**2 + vy**2 + vx**2)\n",
    "        \n",
    "        #ax = -q*vx*Bx/m*(x/r)\n",
    "        #ay = -q*vy*By/m*(y/r)\n",
    "        #az = -q*vz*Bz/m*(y/r) \n",
    "        \n",
    "        #position_and_velocity = [x,y,z,ax,ay,az]   #i'm having some difficulty creating the list points, and velcoities \n",
    "        \n",
    "    \n",
    "        \n",
    "    fig = plt.figure()\n",
    "    ax = fig.gca(projection=\"3d\")\n",
    "    ax.plot(p_a_array[:,0], p_a_array[:,1], p_a_array[:,2])\n",
    "    ax.set_xlabel(\"X\")\n",
    "    ax.set_ylabel(\"Y\")\n",
    "    ax.set_zlabel(\"Z\")\n",
    "    plt.show()\n",
    "\n",
    "    plt.plot(t, p_a_array[:,0], label=\"X Fluctuations\")\n",
    "    plt.plot(t, p_a_array[:,1], label=\"Y Fluctuations\")\n",
    "    plt.legend()\n",
    "    plt.show()\n",
    "\n",
    "\n",
    "    energy = (1.0/2)*((p_a_array[:,3])**2 + (p_a_array[:,4])**2)\n",
    "\n",
    "    plt.plot(t, energy)\n",
    "    plt.show()\n",
    "    \n",
    "    return \n",
    "    \n",
    "    \n",
    "\n",
    "    \n",
    "    \n",
    "pos = [0, 1, 10]\n",
    "vel = [1, 0, -1]\n",
    "B = [0, 1, 0] \n",
    "\n",
    "\n",
    "\n",
    "\n",
    "\n",
    "nonuniform (pos = [0, 1, 10], vel= [1, 0, -1], m= 1 , total_time=10 , time_steps=101 , B = [0, 1, 0] , q=1)\n",
    "\n",
    "\n"
   ]
  },
  {
   "cell_type": "code",
   "execution_count": null,
   "metadata": {
    "collapsed": true
   },
   "outputs": [],
   "source": []
  },
  {
   "cell_type": "code",
   "execution_count": null,
   "metadata": {
    "collapsed": true
   },
   "outputs": [],
   "source": []
  },
  {
   "cell_type": "code",
   "execution_count": null,
   "metadata": {
    "collapsed": true
   },
   "outputs": [],
   "source": []
  },
  {
   "cell_type": "code",
   "execution_count": null,
   "metadata": {
    "collapsed": true
   },
   "outputs": [],
   "source": []
  },
  {
   "cell_type": "code",
   "execution_count": null,
   "metadata": {
    "collapsed": false
   },
   "outputs": [],
   "source": [
    "\n",
    "    "
   ]
  },
  {
   "cell_type": "code",
   "execution_count": null,
   "metadata": {
    "collapsed": true
   },
   "outputs": [],
   "source": []
  },
  {
   "cell_type": "code",
   "execution_count": null,
   "metadata": {
    "collapsed": true
   },
   "outputs": [],
   "source": []
  },
  {
   "cell_type": "code",
   "execution_count": null,
   "metadata": {
    "collapsed": true
   },
   "outputs": [],
   "source": []
  },
  {
   "cell_type": "code",
   "execution_count": null,
   "metadata": {
    "collapsed": true
   },
   "outputs": [],
   "source": []
  },
  {
   "cell_type": "code",
   "execution_count": 65,
   "metadata": {
    "collapsed": false
   },
   "outputs": [
    {
     "ename": "TypeError",
     "evalue": "return arrays must be of ArrayType",
     "output_type": "error",
     "traceback": [
      "\u001b[0;31m---------------------------------------------------------------------------\u001b[0m",
      "\u001b[0;31mTypeError\u001b[0m                                 Traceback (most recent call last)",
      "\u001b[0;32m<ipython-input-65-01beac2131f0>\u001b[0m in \u001b[0;36m<module>\u001b[0;34m()\u001b[0m\n\u001b[1;32m     42\u001b[0m \u001b[0mt\u001b[0m \u001b[0;34m=\u001b[0m \u001b[0mnp\u001b[0m\u001b[0;34m.\u001b[0m\u001b[0mlinspace\u001b[0m\u001b[0;34m(\u001b[0m\u001b[0;36m0\u001b[0m\u001b[0;34m,\u001b[0m \u001b[0;36m10\u001b[0m\u001b[0;34m,\u001b[0m \u001b[0mN\u001b[0m\u001b[0;34m)\u001b[0m\u001b[0;34m\u001b[0m\u001b[0m\n\u001b[1;32m     43\u001b[0m \u001b[0mu\u001b[0m \u001b[0;34m=\u001b[0m \u001b[0mnp\u001b[0m\u001b[0;34m.\u001b[0m\u001b[0mzeros\u001b[0m\u001b[0;34m(\u001b[0m\u001b[0;34m(\u001b[0m\u001b[0mlen\u001b[0m\u001b[0;34m(\u001b[0m\u001b[0mt\u001b[0m\u001b[0;34m)\u001b[0m\u001b[0;34m,\u001b[0m \u001b[0;36m7\u001b[0m\u001b[0;34m)\u001b[0m\u001b[0;34m)\u001b[0m \u001b[0;31m#conditions from Grant's code\u001b[0m\u001b[0;34m\u001b[0m\u001b[0m\n\u001b[0;32m---> 44\u001b[0;31m \u001b[0mB\u001b[0m \u001b[0;34m=\u001b[0m \u001b[0mnp\u001b[0m\u001b[0;34m.\u001b[0m\u001b[0mlinspace\u001b[0m\u001b[0;34m(\u001b[0m\u001b[0;36m0\u001b[0m\u001b[0;34m,\u001b[0m \u001b[0mnp\u001b[0m\u001b[0;34m.\u001b[0m\u001b[0mcos\u001b[0m\u001b[0;34m(\u001b[0m\u001b[0;36m2\u001b[0m\u001b[0;34m*\u001b[0m\u001b[0mnp\u001b[0m\u001b[0;34m.\u001b[0m\u001b[0mpi\u001b[0m\u001b[0;34m,\u001b[0m \u001b[0mN\u001b[0m\u001b[0;34m)\u001b[0m\u001b[0;34m)\u001b[0m   \u001b[0;31m#need to varry either with time or position\u001b[0m\u001b[0;34m\u001b[0m\u001b[0m\n\u001b[0m\u001b[1;32m     45\u001b[0m \u001b[0;34m\u001b[0m\u001b[0m\n\u001b[1;32m     46\u001b[0m \u001b[0mrandomfluc\u001b[0m \u001b[0;34m=\u001b[0m \u001b[0modeint\u001b[0m\u001b[0;34m(\u001b[0m\u001b[0ms_part_randomized\u001b[0m\u001b[0;34m,\u001b[0m \u001b[0mp0\u001b[0m\u001b[0;34m,\u001b[0m \u001b[0mt\u001b[0m\u001b[0;34m,\u001b[0m \u001b[0margs\u001b[0m\u001b[0;34m=\u001b[0m\u001b[0;34m(\u001b[0m\u001b[0mB\u001b[0m\u001b[0;34m,\u001b[0m\u001b[0;34m)\u001b[0m\u001b[0;34m)\u001b[0m\u001b[0;34m\u001b[0m\u001b[0m\n",
      "\u001b[0;31mTypeError\u001b[0m: return arrays must be of ArrayType"
     ]
    }
   ],
   "source": [
    "\"\"\"Randomized\"\"\"\n",
    "    \n",
    "    \n",
    "    \n",
    "from scipy.integrate import odeint\n",
    "import matplotlib as mpl\n",
    "from mpl_toolkits.mplot3d import Axes3D\n",
    "import numpy as np\n",
    "import matplotlib.pyplot as plt\n",
    "\n",
    "mpl.rcParams['legend.fontsize'] = 10\n",
    "\n",
    "\n",
    "\n",
    "def random (pos, vel, m, total_time, time_steps , B, q):\n",
    "    \n",
    "    t = np.linspace(0, 10, time_steps)\n",
    "    deltat= 10/time_steps\n",
    "    \n",
    "    x, y, z = pos\n",
    "    vx, vy, vz = vel\n",
    "    Bx, By, Bz = B\n",
    "    \n",
    "    px=m*vx #can say this because particle velcocity will be less than c\n",
    "    py=m*vy\n",
    "    pz=m*vz\n",
    "    \n",
    "    #position_and_velocity = () most liekly will be changed\n",
    "    \n",
    "    for i in t:\n",
    "        Bx=0\n",
    "        By=random.randrange(0,5) \n",
    "        Bz=0\n",
    "        \n",
    "        FBx=q*vx*Bx\n",
    "        FBy=q*vy*By\n",
    "        FBz=q*vz*Bz\n",
    "        \n",
    "        px = px + FBx * deltat \n",
    "        py = py + FBy * deltat \n",
    "        pz = pz + FBz * deltat\n",
    "        \n",
    "        vx=px/m\n",
    "        vy=py/m\n",
    "        vz=pz/m\n",
    "\n",
    "        x=x+vx*(deltat)\n",
    "        y=y+vy*(deltat)\n",
    "        z=z+vz*(deltat)\n",
    "        \n",
    "        #r = np.sqrt(x**2 + y**2)\n",
    "    \n",
    "        #v = np.sqrt(vx**2 + vy**2 + vx**2)\n",
    "        \n",
    "        #ax = -q*vx*Bx/m*(x/r)\n",
    "        #ay = -q*vy*By/m*(y/r)\n",
    "        #az = -q*vz*Bz/m*(y/r) \n",
    "        \n",
    "        #position_and_velocity = [x,y,z,ax,ay,az]   #i'm having some difficulty creating the list points, and velcoities \n",
    "        \n",
    "    \n",
    "        \n",
    "    fig = plt.figure()\n",
    "    ax = fig.gca(projection=\"3d\")\n",
    "    ax.plot(p_a_array[:,0], p_a_array[:,1], p_a_array[:,2])\n",
    "    ax.set_xlabel(\"X\")\n",
    "    ax.set_ylabel(\"Y\")\n",
    "    ax.set_zlabel(\"Z\")\n",
    "    plt.show()\n",
    "\n",
    "    plt.plot(t, p_a_array[:,0], label=\"X Fluctuations\")\n",
    "    plt.plot(t, p_a_array[:,1], label=\"Y Fluctuations\")\n",
    "    plt.legend()\n",
    "    plt.show()\n",
    "\n",
    "\n",
    "    energy = (1.0/2)*((p_a_array[:,3])**2 + (p_a_array[:,4])**2)\n",
    "\n",
    "    plt.plot(t, energy)\n",
    "    plt.show()\n",
    "    \n",
    "    return \n",
    "    \n",
    "    \n",
    "\n",
    "    \n",
    "    \n",
    "pos = [0, 1, 10]\n",
    "vel = [1, 0, -1]\n",
    "B = [0, 1, 0] \n",
    "\n",
    "\n",
    "\n",
    "\n",
    "\n",
    "random (pos = [0, 1, 10], vel= [1, 0, -1], m= 1 , total_time=10 , time_steps=101 , B = [0, 1, 0] , q=1)\n",
    "\n",
    "\n"
   ]
  },
  {
   "cell_type": "code",
   "execution_count": null,
   "metadata": {
    "collapsed": true
   },
   "outputs": [],
   "source": []
  },
  {
   "cell_type": "code",
   "execution_count": null,
   "metadata": {
    "collapsed": true
   },
   "outputs": [],
   "source": []
  },
  {
   "cell_type": "code",
   "execution_count": null,
   "metadata": {
    "collapsed": true
   },
   "outputs": [],
   "source": []
  },
  {
   "cell_type": "code",
   "execution_count": null,
   "metadata": {
    "collapsed": true
   },
   "outputs": [],
   "source": []
  }
 ],
 "metadata": {
  "anaconda-cloud": {},
  "kernelspec": {
   "display_name": "Python [Root]",
   "language": "python",
   "name": "Python [Root]"
  },
  "language_info": {
   "codemirror_mode": {
    "name": "ipython",
    "version": 3
   },
   "file_extension": ".py",
   "mimetype": "text/x-python",
   "name": "python",
   "nbconvert_exporter": "python",
   "pygments_lexer": "ipython3",
   "version": "3.5.2"
  }
 },
 "nbformat": 4,
 "nbformat_minor": 0
}
