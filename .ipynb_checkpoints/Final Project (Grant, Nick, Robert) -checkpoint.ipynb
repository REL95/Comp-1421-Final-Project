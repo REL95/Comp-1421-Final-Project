{
 "cells": [
  {
   "cell_type": "markdown",
   "metadata": {},
   "source": [
    "This is where we will implement and code everything...."
   ]
  },
  {
   "cell_type": "raw",
   "metadata": {
    "collapsed": true
   },
   "source": [
    "For the basic test cases do we even need 3d? If the tests are just in 2d\n",
    "I mean I can write the code interracting in 3d but Grant is going to have to be the one to \n",
    "reqtrite the plotter in 3d \n",
    "\n",
    "\n",
    "Do 2D and 3D test cases. Test in all 3 dimentions of motion"
   ]
  },
  {
   "cell_type": "code",
   "execution_count": null,
   "metadata": {
    "collapsed": false
   },
   "outputs": [],
   "source": [
    "import numpy as np\n",
    "import random as random\n",
    "%matplotlib inline\n",
    "import matplotlib.pyplot as plt\n",
    "\n",
    "\n",
    "def uniform_B_field():\n",
    "    \"\"\"Will simulate a single particle in a uniform B-field\n",
    "A simplistic case meant to be a proof of concept\n",
    "Will be initally plotted in 2D and will later be expanded to 3D \n",
    "so we can better see more complicated corkscrew shapes\n",
    "\n",
    "\n",
    "possibly make a single code to simulate particle charges?\n",
    "just make the equation of the B-field varry (constant = 1, or varrying =sin or cos, \n",
    "random = break total field into bits and mult by random number)\n",
    "\n",
    "do we put boundaries to bounce on? or do we let it shoot out of the testing area?\n",
    "\n",
    "\n",
    "\n",
    "PARAMETERS\n",
    "charge (positive or negative and what value, have it enterable in units of e)\n",
    "length of field/length of testing area\n",
    "number of steps to calculate (remember its in 3D so you may have to use less to save time)\n",
    "inital velocity x\n",
    "inital velocity y\n",
    "inital velocity z\n",
    "time for the expeiment to take place (maybe have a cutoff once particle exits field \n",
    "or a ways after so we can see slightly more long term effects (simple (if paramter = 1.5 field length- end )))\n",
    "    I am more in favor of this cutoff method to be our primary method of ending the code. Though we could add \n",
    "    **kwargs statement so if we only want to see a  tiny amount of time, we can (and then add statement that \n",
    "    if time= anything use that)\n",
    "\n",
    "\n",
    "Output\n",
    "\n",
    "\n",
    "\n",
    "\n",
    "Location(and plotted with connecting line)\n",
    "Array of KE values for each step\n",
    "\n",
    "\n",
    "\n",
    "    F=q*E + q*v*np.cross(B) \n",
    "    MEANS F = whatever + q* [v_x,v_y,v_z] x [B_x,B_y,B_z]\n",
    "    \n",
    "        for now we assume no E\"\"\"\n",
    "\n",
    "    #velocity peramertrs to be entered\n",
    "    v_x = 1\n",
    "    v_y = 0\n",
    "    v_z = 0\n",
    "    \n",
    "    \n",
    "    \n",
    "    v_vector = [v_x,v_y,v_z]\n",
    "    \n",
    "    \n",
    "    \n",
    "    q=-1 #e\n",
    "    B=[1,1,1]   #value*amp\n",
    "    \n",
    "    \n",
    "    #make B-field\n",
    "    F_B=q*np.cross(v_vector,B)\n",
    "    \n",
    "    \n",
    "    \n",
    "    return F_B, q, B\n",
    "\n",
    "\n",
    "print(F_B)\n",
    "\n",
    "\n",
    "\n",
    "\n",
    "\"\"\"Vary angle the particle is shot into: Do it along normal to B_field(perpendicular), at a small angle away from normal\n",
    "\n",
    "both postive and negative\"\"\"\n",
    "    "
   ]
  },
  {
   "cell_type": "code",
   "execution_count": null,
   "metadata": {
    "collapsed": false
   },
   "outputs": [],
   "source": [
    "def uniform_B_field():\n",
    "    v_x = float(input(\"Enter value of v_x \"  ))\n",
    "    v_y = float(input(\"Enter value of v_y \"  ))\n",
    "    v_z = float(input(\"Enter value of v_z \"  ))\n",
    "               \n",
    "    v_vector = [v_x,v_y,v_z]           \n",
    "    \n",
    "    \n",
    "    \n",
    "    q = float(input(\"Enter charge value \"  ))\n",
    "    \n",
    "    \n",
    "    #entered argument\n",
    "    \n",
    "        \n",
    "    \n",
    "    \n",
    "    \n",
    "    B=[0,1,0]*1\n",
    "    \n",
    "    F_B=q*np.cross(v_vector,B)\n",
    "    \n",
    "    \n",
    "    \n",
    "    return v_vector, B, F_B, q\n",
    "\n",
    "uniform_B_field()\n",
    "\n",
    "\n"
   ]
  },
  {
   "cell_type": "code",
   "execution_count": null,
   "metadata": {
    "collapsed": true
   },
   "outputs": [],
   "source": []
  },
  {
   "cell_type": "code",
   "execution_count": null,
   "metadata": {
    "collapsed": true
   },
   "outputs": [],
   "source": []
  },
  {
   "cell_type": "code",
   "execution_count": null,
   "metadata": {
    "collapsed": true
   },
   "outputs": [],
   "source": []
  },
  {
   "cell_type": "code",
   "execution_count": null,
   "metadata": {
    "collapsed": false
   },
   "outputs": [],
   "source": []
  },
  {
   "cell_type": "code",
   "execution_count": null,
   "metadata": {
    "collapsed": true
   },
   "outputs": [],
   "source": []
  },
  {
   "cell_type": "code",
   "execution_count": null,
   "metadata": {
    "collapsed": true
   },
   "outputs": [],
   "source": []
  },
  {
   "cell_type": "code",
   "execution_count": null,
   "metadata": {
    "collapsed": true
   },
   "outputs": [],
   "source": [
    "def nonuniform_B_field():\n",
    "\"\"\"Will simulate a single particle in a uniform B-field\n",
    "A simplistic case meant to be a proof of concept\n",
    "Will be initally plotted in 2D and will later be expanded to 3D \n",
    "so we can better see more complicated corkscrew shapes\n",
    "\n",
    "\n",
    "possibly make a single code to simulate particle charges?\n",
    "just make the equation of the B-field varry (constant = 1, or varrying =sin or cos, \n",
    "random = break total field into bits and mult by random number)\n",
    "\n",
    "do we put boundaries to bounce on? or do we let it shoot out of the testing area?\n",
    "\n",
    "\n",
    "\n",
    "PARAMETERS\n",
    "charge (positive or negative and what value, have it enterable in units of e)\n",
    "length of field/length of testing area\n",
    "number of steps to calculate (remember its in 3D so you may have to use less to save time)\n",
    "inital velocity x\n",
    "inital velocity y\n",
    "inital velocity z\n",
    "time for the expeiment to take place (maybe have a cutoff once particle exits field \n",
    "or a ways after so we can see slightly more long term effects (simple (if paramter = 1.5 field length- end )))\n",
    "    I am more in favor of this cutoff method to be our primary method of ending the code. Though we could add \n",
    "    **kwargs statement so if we only want to see a  tiny amount of time, we can (and then add statement that \n",
    "    if time= anything use that)\n",
    "\n",
    "\n",
    "Output\n",
    "\n",
    "\n",
    "\n",
    "\n",
    "Location(and plotted with connecting line)\n",
    "Array of KE values for each step\n",
    "\n",
    "\n",
    "\n",
    "\n",
    "    F=q*E + q*v*np.cross(B) \n",
    "    MEANS F = whatever + q* [v_x,v_y,v_z] x [B_x,B_y,B_z]\n",
    "    \n",
    "        for now we assume no E\n",
    "\n",
    "\"\"\"\n",
    "\n",
    "\n"
   ]
  },
  {
   "cell_type": "code",
   "execution_count": null,
   "metadata": {
    "collapsed": true
   },
   "outputs": [],
   "source": []
  },
  {
   "cell_type": "code",
   "execution_count": null,
   "metadata": {
    "collapsed": true
   },
   "outputs": [],
   "source": [
    "\"\"\"Ring/Taurus broken into 8 pieces. Set point 1 and all ofthe pices in respect to 1\n",
    "Simple case is shoot ring perpendicular to B and add other piece places to see ring turn\"\"\""
   ]
  },
  {
   "cell_type": "code",
   "execution_count": null,
   "metadata": {
    "collapsed": true
   },
   "outputs": [],
   "source": []
  },
  {
   "cell_type": "code",
   "execution_count": null,
   "metadata": {
    "collapsed": true
   },
   "outputs": [],
   "source": []
  },
  {
   "cell_type": "code",
   "execution_count": null,
   "metadata": {
    "collapsed": true
   },
   "outputs": [],
   "source": []
  }
 ],
 "metadata": {
  "anaconda-cloud": {},
  "kernelspec": {
   "display_name": "Python [Root]",
   "language": "python",
   "name": "Python [Root]"
  },
  "language_info": {
   "codemirror_mode": {
    "name": "ipython",
    "version": 3
   },
   "file_extension": ".py",
   "mimetype": "text/x-python",
   "name": "python",
   "nbconvert_exporter": "python",
   "pygments_lexer": "ipython3",
   "version": "3.5.2"
  }
 },
 "nbformat": 4,
 "nbformat_minor": 0
}
